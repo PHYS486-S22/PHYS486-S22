{
  "nbformat": 4,
  "nbformat_minor": 0,
  "metadata": {
    "colab": {
      "name": "Boltzmann.ipynb",
      "provenance": [],
      "authorship_tag": "ABX9TyOio4SZdUTDRCAZpdMSfWY/",
      "include_colab_link": true
    },
    "kernelspec": {
      "name": "python3",
      "display_name": "Python 3"
    },
    "language_info": {
      "name": "python"
    }
  },
  "cells": [
    {
      "cell_type": "markdown",
      "metadata": {
        "id": "view-in-github",
        "colab_type": "text"
      },
      "source": [
        "<a href=\"https://colab.research.google.com/github/PHYS486-S22/PHYS486-S22/blob/main/Boltzmann.ipynb\" target=\"_parent\"><img src=\"https://colab.research.google.com/assets/colab-badge.svg\" alt=\"Open In Colab\"/></a>"
      ]
    },
    {
      "cell_type": "code",
      "execution_count": 37,
      "metadata": {
        "id": "iH2AlH2KDrb8"
      },
      "outputs": [],
      "source": [
        "%matplotlib inline\n",
        "import numpy as np\n",
        "from numpy.random import rand, randint\n",
        "import matplotlib.pyplot as plt"
      ]
    },
    {
      "cell_type": "code",
      "source": [
        "def calcEnergy(n):\n",
        "    \n",
        "  #simple hydrogen atom energy level\n",
        "  energy = -13.6 / (n*n) # in eV\n",
        "\n",
        "  return energy    "
      ],
      "metadata": {
        "id": "_zdElWISD06X"
      },
      "execution_count": 7,
      "outputs": []
    },
    {
      "cell_type": "code",
      "source": [
        "print(calcEnergy(20))"
      ],
      "metadata": {
        "colab": {
          "base_uri": "https://localhost:8080/"
        },
        "id": "EStl7rChD8KP",
        "outputId": "46ad389d-babc-4007-ec75-b1b729df5024"
      },
      "execution_count": 6,
      "outputs": [
        {
          "output_type": "stream",
          "name": "stdout",
          "text": [
            "-0.034\n"
          ]
        }
      ]
    },
    {
      "cell_type": "code",
      "source": [
        "def probEnergy(n,T):\n",
        "\n",
        "  #calculate the energy of the state\n",
        "  energy = calcEnergy(n)\n",
        "\n",
        "  #calculate kT\n",
        "  k = 8.617342315e-5 #eV/Kelvin\n",
        "  kT = k*T\n",
        "\n",
        "  #calculate probability (unnormalized!)\n",
        "  prob = np.exp(-1.*energy/kT)\n",
        "\n",
        "  return prob"
      ],
      "metadata": {
        "id": "3ao4gGo-E-0F"
      },
      "execution_count": 16,
      "outputs": []
    },
    {
      "cell_type": "code",
      "source": [
        "print(probEnergy(1,10))"
      ],
      "metadata": {
        "colab": {
          "base_uri": "https://localhost:8080/"
        },
        "id": "PWmnhYNRGk4P",
        "outputId": "037505be-da18-492b-aa2e-4d31849ffd19"
      },
      "execution_count": 21,
      "outputs": [
        {
          "output_type": "stream",
          "name": "stdout",
          "text": [
            "inf\n"
          ]
        },
        {
          "output_type": "stream",
          "name": "stderr",
          "text": [
            "/usr/local/lib/python3.7/dist-packages/ipykernel_launcher.py:11: RuntimeWarning: overflow encountered in exp\n",
            "  # This is added back by InteractiveShellApp.init_path()\n"
          ]
        }
      ]
    },
    {
      "cell_type": "code",
      "source": [
        "def relativeProb(n1,n2,T):\n",
        "\n",
        "  #calculate the energies of the states n1 & n2\n",
        "  n1energy = calcEnergy(n1)\n",
        "  n2energy = calcEnergy(n2)\n",
        "\n",
        "  #calculate kT\n",
        "  k = 8.617342315e-5 #eV/Kelvin\n",
        "  kT = k*T\n",
        "\n",
        "  #calculate relative probabilities of states n1 and n2\n",
        "  prob_n2_over_n1 = np.exp(-1.*(n2energy - n1energy)/kT)\n",
        "\n",
        "  return prob_n2_over_n1"
      ],
      "metadata": {
        "id": "khl7NYBuGokl"
      },
      "execution_count": 24,
      "outputs": []
    },
    {
      "cell_type": "code",
      "source": [
        "print(calcEnergy(1))\n",
        "print(calcEnergy(2))\n",
        "print(relativeProb(1,2,100000))"
      ],
      "metadata": {
        "colab": {
          "base_uri": "https://localhost:8080/"
        },
        "id": "9ciSXsQmHw-G",
        "outputId": "65f53595-19d5-4f6c-a171-25286440ea69"
      },
      "execution_count": 31,
      "outputs": [
        {
          "output_type": "stream",
          "name": "stdout",
          "text": [
            "-13.6\n",
            "-3.4\n",
            "0.3061562749581908\n"
          ]
        }
      ]
    },
    {
      "cell_type": "code",
      "source": [
        "from IPython.core.display import JSON\n",
        "for i in range(100):\n",
        "  totalProb = 0.\n",
        "  for j in range(i):\n",
        "    totalProb = totalProb + relativeProb(1,j+2,30000.)\n",
        "  print(i, totalProb)"
      ],
      "metadata": {
        "colab": {
          "base_uri": "https://localhost:8080/"
        },
        "id": "v_BIfgUAH1pF",
        "outputId": "9ce542cc-853d-42b5-ee96-e800a875b0a9"
      },
      "execution_count": 36,
      "outputs": [
        {
          "output_type": "stream",
          "name": "stdout",
          "text": [
            "0 0.0\n",
            "1 0.019340923943570672\n",
            "2 0.0286553946936524\n",
            "3 0.03586807231565375\n",
            "4 0.04227560511413174\n",
            "5 0.04828411476290026\n",
            "6 0.05406413589766449\n",
            "7 0.05970052994357325\n",
            "8 0.06524052136830502\n",
            "9 0.0707125697247517\n",
            "10 0.07613488480384577\n",
            "11 0.08151967650016953\n",
            "12 0.08687544594911338\n",
            "13 0.09220829847255091\n",
            "14 0.09752273427524169\n",
            "15 0.10282214467858643\n",
            "16 0.10810913459683542\n",
            "17 0.1133857384496106\n",
            "18 0.11865356851726117\n",
            "19 0.12391391921545368\n",
            "20 0.12916784187027516\n",
            "21 0.1344161993046369\n",
            "22 0.13965970632919086\n",
            "23 0.14489896021380935\n",
            "24 0.15013446392066102\n",
            "25 0.15536664403052228\n",
            "26 0.1605958647259473\n",
            "27 0.16582243880830458\n",
            "28 0.17104663645826435\n",
            "29 0.17626869226158162\n",
            "30 0.18148881088841085\n",
            "31 0.1867071717180954\n",
            "32 0.1919239326311602\n",
            "33 0.19713923313847506\n",
            "34 0.20235319697901238\n",
            "35 0.20756593428864575\n",
            "36 0.21277754342045768\n",
            "37 0.2179881124802151\n",
            "38 0.22319772062771318\n",
            "39 0.22840643918462497\n",
            "40 0.23361433258162545\n",
            "41 0.23882145917136272\n",
            "42 0.24402787192894318\n",
            "43 0.24923361905768587\n",
            "44 0.25443874451476856\n",
            "45 0.2596432884688625\n",
            "46 0.2648472876998094\n",
            "47 0.27005077594873\n",
            "48 0.2752537842255923\n",
            "49 0.28045634108015344\n",
            "50 0.28565847284126483\n",
            "51 0.29086020382877037\n",
            "52 0.2960615565415912\n",
            "53 0.3012625518250633\n",
            "54 0.3064632090201497\n",
            "55 0.3116635460967785\n",
            "56 0.3168635797732427\n",
            "57 0.32206332562333256\n",
            "58 0.3272627981726475\n",
            "59 0.3324620109853405\n",
            "60 0.3376609767423874\n",
            "61 0.3428597073123302\n",
            "62 0.34805821381532714\n",
            "63 0.3532565066812359\n",
            "64 0.3584545957023689\n",
            "65 0.36365249008148254\n",
            "66 0.3688501984754958\n",
            "67 0.3740477290353739\n",
            "68 0.37924508944256513\n",
            "69 0.38444228694233307\n",
            "70 0.38963932837428833\n",
            "71 0.39483622020039094\n",
            "72 0.40003296853066417\n",
            "73 0.4052295791468355\n",
            "74 0.4104260575240968\n",
            "75 0.4156224088511561\n",
            "76 0.4208186380487357\n",
            "77 0.4260147497866548\n",
            "78 0.431210748499622\n",
            "79 0.4364066384018492\n",
            "80 0.4416024235005893\n",
            "81 0.44679810760868827\n",
            "82 0.45199369435623404\n",
            "83 0.4571891872013785\n",
            "84 0.4623845894403987\n",
            "85 0.4675799042170599\n",
            "86 0.47277513453133635\n",
            "87 0.4779702832475398\n",
            "88 0.48316535310190345\n",
            "89 0.4883603467096619\n",
            "90 0.49355526657166726\n",
            "91 0.4987501150805755\n",
            "92 0.5039448945266355\n",
            "93 0.5091396071031103\n",
            "94 0.5143342549113579\n",
            "95 0.5195288399655952\n",
            "96 0.5247233641973696\n",
            "97 0.5299178294597574\n",
            "98 0.5351122375313085\n",
            "99 0.5403065901197568\n"
          ]
        }
      ]
    },
    {
      "cell_type": "code",
      "source": [
        "def HydrogenWalk(steps, ceiling, temp):\n",
        "\n",
        "  #set up an array to save our ns in each step.\n",
        "  n = np.zeros(steps)\n",
        "\n",
        "  #set up the atom in the ground state\n",
        "  n[0] = 1\n",
        "\n",
        "  for i in range(steps-1):\n",
        "    n[i+1] = HydrogenStep(n[i], ceiling, temp)\n",
        "\n",
        "  return n"
      ],
      "metadata": {
        "id": "ng9nz6hxI7_l"
      },
      "execution_count": 39,
      "outputs": []
    },
    {
      "cell_type": "code",
      "source": [
        "def HydrogenStep(n, ceiling, temp):\n",
        "\n",
        "  #randomly select a level to check if the atom will transition into it.\n",
        "  next_level = randint(1,ceiling)\n",
        "\n",
        "  #calculate the probability of making this switch\n",
        "  switch_chance = relativeProb(n, next_level, temp)\n",
        "\n",
        "  #randomly select a floating point value between 0 and 1\n",
        "  check = rand()\n",
        "\n",
        "  #decide if we make the switch\n",
        "  if (check < switch_chance):\n",
        "    end = next_level\n",
        "  else:\n",
        "    end = n\n",
        "\n",
        "  return end"
      ],
      "metadata": {
        "id": "5F4Wti-1KEII"
      },
      "execution_count": 40,
      "outputs": []
    },
    {
      "cell_type": "code",
      "source": [
        "hydrogenCold = HydrogenWalk(100000, 100, 10.)\n",
        "hydrogenHot = HydrogenWalk(100000, 100, 100000.)"
      ],
      "metadata": {
        "id": "i5QIJEtnLFh7"
      },
      "execution_count": 83,
      "outputs": []
    },
    {
      "cell_type": "code",
      "source": [
        "print(np.mean(hydrogenCold), np.mean(hydrogenHot))"
      ],
      "metadata": {
        "colab": {
          "base_uri": "https://localhost:8080/"
        },
        "id": "j2T6UzhbLntL",
        "outputId": "77d16b58-1684-49d3-ab45-33a1d4f65889"
      },
      "execution_count": 84,
      "outputs": [
        {
          "output_type": "stream",
          "name": "stdout",
          "text": [
            "1.0 47.71318\n"
          ]
        }
      ]
    },
    {
      "cell_type": "code",
      "source": [
        "print(hydrogenCold[0:100])"
      ],
      "metadata": {
        "colab": {
          "base_uri": "https://localhost:8080/"
        },
        "id": "LobhEDCkLsLS",
        "outputId": "7a3cf9cb-afdd-435d-ab95-9258bc1121d6"
      },
      "execution_count": 85,
      "outputs": [
        {
          "output_type": "stream",
          "name": "stdout",
          "text": [
            "[1. 1. 1. 1. 1. 1. 1. 1. 1. 1. 1. 1. 1. 1. 1. 1. 1. 1. 1. 1. 1. 1. 1. 1.\n",
            " 1. 1. 1. 1. 1. 1. 1. 1. 1. 1. 1. 1. 1. 1. 1. 1. 1. 1. 1. 1. 1. 1. 1. 1.\n",
            " 1. 1. 1. 1. 1. 1. 1. 1. 1. 1. 1. 1. 1. 1. 1. 1. 1. 1. 1. 1. 1. 1. 1. 1.\n",
            " 1. 1. 1. 1. 1. 1. 1. 1. 1. 1. 1. 1. 1. 1. 1. 1. 1. 1. 1. 1. 1. 1. 1. 1.\n",
            " 1. 1. 1. 1.]\n"
          ]
        }
      ]
    },
    {
      "cell_type": "code",
      "source": [
        "print(hydrogenHot[0:100])"
      ],
      "metadata": {
        "colab": {
          "base_uri": "https://localhost:8080/"
        },
        "id": "5hH_AToELvfK",
        "outputId": "2111208e-559a-4f01-c837-6cd69a3c00da"
      },
      "execution_count": 86,
      "outputs": [
        {
          "output_type": "stream",
          "name": "stdout",
          "text": [
            "[ 1.  1.  1.  1. 45. 93. 38. 88. 45. 67. 88.  8. 91.  8. 69. 30. 19. 60.\n",
            " 16. 25. 89. 96. 47. 62. 31. 61.  4. 64. 82. 67. 81. 36. 95. 15. 21. 74.\n",
            " 74. 10. 13. 42. 17. 41. 11. 41. 42.  3. 55. 62. 34. 73. 57. 11. 52. 68.\n",
            " 37. 50. 50. 76. 72. 77. 12. 76. 25. 52. 52. 59.  9. 73. 61. 33. 14. 94.\n",
            " 93. 74. 51. 45. 17. 92. 88. 68. 20.  7. 61. 36. 75. 60. 51. 97. 79. 32.\n",
            " 10. 28. 70. 42. 61. 42. 21. 70. 35.  4.]\n"
          ]
        }
      ]
    },
    {
      "cell_type": "code",
      "source": [
        "plt.hist(hydrogenCold)"
      ],
      "metadata": {
        "colab": {
          "base_uri": "https://localhost:8080/",
          "height": 334
        },
        "id": "Pemz5Y5YL3HS",
        "outputId": "8c306415-a247-4ef2-d328-46da7a20e8c1"
      },
      "execution_count": 87,
      "outputs": [
        {
          "output_type": "execute_result",
          "data": {
            "text/plain": [
              "(array([     0.,      0.,      0.,      0.,      0., 100000.,      0.,\n",
              "             0.,      0.,      0.]),\n",
              " array([0.5, 0.6, 0.7, 0.8, 0.9, 1. , 1.1, 1.2, 1.3, 1.4, 1.5]),\n",
              " <a list of 10 Patch objects>)"
            ]
          },
          "metadata": {},
          "execution_count": 87
        },
        {
          "output_type": "display_data",
          "data": {
            "text/plain": [
              "<Figure size 432x288 with 1 Axes>"
            ],
            "image/png": "[encoded data removed]"
          },
          "metadata": {
            "needs_background": "light"
          }
        }
      ]
    },
    {
      "cell_type": "code",
      "source": [
        "plt.hist(hydrogenHot)"
      ],
      "metadata": {
        "colab": {
          "base_uri": "https://localhost:8080/",
          "height": 334
        },
        "id": "ug8vS2rEMxBO",
        "outputId": "c455aab1-db71-4a98-f1e9-d0c7052a7ad1"
      },
      "execution_count": 88,
      "outputs": [
        {
          "output_type": "execute_result",
          "data": {
            "text/plain": [
              "(array([14478.,  9483.,  9668.,  9609.,  8640.,  9482.,  9720.,  9631.,\n",
              "         9700.,  9589.]),\n",
              " array([ 1. , 10.8, 20.6, 30.4, 40.2, 50. , 59.8, 69.6, 79.4, 89.2, 99. ]),\n",
              " <a list of 10 Patch objects>)"
            ]
          },
          "metadata": {},
          "execution_count": 88
        },
        {
          "output_type": "display_data",
          "data": {
            "text/plain": [
              "<Figure size 432x288 with 1 Axes>"
            ],
            "image/png": "[encoded data removed]"
          },
          "metadata": {
            "needs_background": "light"
          }
        }
      ]
    },
    {
      "cell_type": "code",
      "source": [
        ""
      ],
      "metadata": {
        "id": "znNT1rUmM0RF"
      },
      "execution_count": null,
      "outputs": []
    }
  ]
}