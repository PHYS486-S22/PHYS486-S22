{
  "nbformat": 4,
  "nbformat_minor": 0,
  "metadata": {
    "colab": {
      "name": "Saha+Boltzmann.ipynb",
      "provenance": [],
      "collapsed_sections": [],
      "authorship_tag": "ABX9TyPiaG2lj1F1IGE+GaKBLx58",
      "include_colab_link": true
    },
    "kernelspec": {
      "name": "python3",
      "display_name": "Python 3"
    },
    "language_info": {
      "name": "python"
    }
  },
  "cells": [
    {
      "cell_type": "markdown",
      "metadata": {
        "id": "view-in-github",
        "colab_type": "text"
      },
      "source": [
        "<a href=\"https://colab.research.google.com/github/PHYS486-S22/PHYS486-S22/blob/main/SampleNotebooks/Saha%2BBoltzmann.ipynb\" target=\"_parent\"><img src=\"https://colab.research.google.com/assets/colab-badge.svg\" alt=\"Open In Colab\"/></a>"
      ]
    },
    {
      "cell_type": "code",
      "execution_count": 1,
      "metadata": {
        "id": "iH2AlH2KDrb8"
      },
      "outputs": [],
      "source": [
        "### Start with the usual imports\n",
        "%matplotlib inline\n",
        "import numpy as np\n",
        "from numpy.random import rand, randint\n",
        "import matplotlib.pyplot as plt\n",
        "import math"
      ]
    },
    {
      "cell_type": "markdown",
      "source": [
        "## Functions to calculate properties of a hydrogen atom"
      ],
      "metadata": {
        "id": "VDrqSc6pxHfz"
      }
    },
    {
      "cell_type": "code",
      "source": [
        "# function to calculate the energy (in electron volts) of \n",
        "# a hydrogen atom with an electron in energy level n.\n",
        "\n",
        "def calcEnergy(n):\n",
        "    \n",
        "  #simple hydrogen atom energy level\n",
        "  energy = -13.6 / (n*n) # in eV\n",
        "\n",
        "  return energy    "
      ],
      "metadata": {
        "id": "_zdElWISD06X"
      },
      "execution_count": 3,
      "outputs": []
    },
    {
      "cell_type": "code",
      "source": [
        "# a function to calculate the probability of an electron \n",
        "# inhabiting an energy level n in an environment with temperature T (in Kelvin).\n",
        "\n",
        "# note that, without iterating over all n, this probability cannot be normalized!\n",
        "def probEnergy(n,T):\n",
        "\n",
        "  #calculate the energy of the state\n",
        "  energy = calcEnergy(n)\n",
        "\n",
        "  #calculate kT\n",
        "  k = 8.617342315e-5 #eV/Kelvin\n",
        "  kT = k*T\n",
        "\n",
        "  #calculate probability (unnormalized!)\n",
        "  prob = np.exp(-1.*energy/kT)\n",
        "\n",
        "  return prob"
      ],
      "metadata": {
        "id": "3ao4gGo-E-0F"
      },
      "execution_count": 4,
      "outputs": []
    },
    {
      "cell_type": "code",
      "source": [
        "# a function to calculate the relative probability of two energy levels (n1 and n2), \n",
        "# at a given temperature T (in Kelvin).\n",
        "\n",
        "# this pairwise calculation avoids the issue of infinite normalization that we \n",
        "# ran into above.\n",
        "def relativeProb(n1,n2,T):\n",
        "\n",
        "  #calculate the energies of the states n1 & n2\n",
        "  n1energy = calcEnergy(n1)\n",
        "  n2energy = calcEnergy(n2)\n",
        "\n",
        "  #calculate kT\n",
        "  k = 8.617342315e-5 #eV/Kelvin\n",
        "  kT = k*T\n",
        "\n",
        "  #calculate relative probabilities of states n1 and n2\n",
        "  prob_n2_over_n1 = (n2*n2/(n1*n1))*np.exp(-1.*(n2energy - n1energy)/kT)\n",
        "\n",
        "  return prob_n2_over_n1"
      ],
      "metadata": {
        "id": "khl7NYBuGokl"
      },
      "execution_count": 5,
      "outputs": []
    },
    {
      "cell_type": "markdown",
      "source": [
        "## test the functions to calculate probabilities of different energy levels."
      ],
      "metadata": {
        "id": "Xx6jGAJMy0TD"
      }
    },
    {
      "cell_type": "code",
      "source": [
        "#check that energy level calculations are going ok\n",
        "print(calcEnergy(1))\n",
        "print(calcEnergy(2))"
      ],
      "metadata": {
        "colab": {
          "base_uri": "https://localhost:8080/"
        },
        "id": "9ciSXsQmHw-G",
        "outputId": "8ec52647-4bf5-4b6f-f438-f96373f30488"
      },
      "execution_count": 9,
      "outputs": [
        {
          "output_type": "stream",
          "name": "stdout",
          "text": [
            "-13.6\n",
            "-3.4\n"
          ]
        }
      ]
    },
    {
      "cell_type": "code",
      "source": [
        "#check the relative probabilities at 10 & 100,000 Kelvin\n",
        "# (expectation is that n=2 / n=1 should be real low at T = 10K, \n",
        "# and higher at T = 100,000 K.)\n",
        "print(relativeProb(1,2,10))\n",
        "print(relativeProb(1,2,100000))"
      ],
      "metadata": {
        "colab": {
          "base_uri": "https://localhost:8080/"
        },
        "id": "ic5w3P6Tzuiw",
        "outputId": "1735b1eb-fae2-4bf8-8409-43cb1811427e"
      },
      "execution_count": 11,
      "outputs": [
        {
          "output_type": "stream",
          "name": "stdout",
          "text": [
            "0.0\n",
            "1.2246250998327632\n"
          ]
        }
      ]
    },
    {
      "cell_type": "code",
      "source": [
        "# see how we can normalize probabilities by calculating their sum up a given level \n",
        "# (and see how the total depends on the level we choose as our ceiling) \n",
        "\n",
        "exploreTemp = 10000.\n",
        "\n",
        "print('i', '   prob. sum')\n",
        "\n",
        "for i in range(10):\n",
        "  totalProb = 0.\n",
        "  for j in range(i):\n",
        "    totalProb = totalProb + relativeProb(1,j+2,exploreTemp)\n",
        "  print(i, '   ', totalProb)"
      ],
      "metadata": {
        "colab": {
          "base_uri": "https://localhost:8080/"
        },
        "id": "v_BIfgUAH1pF",
        "outputId": "2484524d-35a4-441f-c623-b6569049a368"
      },
      "execution_count": 13,
      "outputs": [
        {
          "output_type": "stream",
          "name": "stdout",
          "text": [
            "i    prob. sum\n",
            "0     0.0\n",
            "1     2.8939541267577195e-05\n",
            "2     3.621259940555731e-05\n",
            "3     4.221616896409453e-05\n",
            "4     4.879293696837019e-05\n",
            "5     5.660206942931724e-05\n",
            "6     6.60641002712594e-05\n",
            "7     7.752408440505018e-05\n",
            "8     9.12965690342945e-05\n",
            "9     0.00010768169482092463\n"
          ]
        }
      ]
    },
    {
      "cell_type": "markdown",
      "source": [
        "## functions to create a monte carlo markov chain simulation of the atom"
      ],
      "metadata": {
        "id": "DaVAjXtx0p5U"
      }
    },
    {
      "cell_type": "code",
      "source": [
        "# a function that conducts a random draw of the relative probability of an input electron energy \n",
        "# level (n) and a randomly selected level below some maximum (ceiling), at a given \n",
        "# input temperature T (in Kelvin).  Based on the random draw and the relative \n",
        "# probabilities of the two levels, the atom will either stay in the current \n",
        "# energy level n, or switch to the randomly selected level.  Output is the n \n",
        "# value of the electron's energy level after this evaluation.\n",
        "\n",
        "def HydrogenStep(n, ceiling, temp):\n",
        "\n",
        "  #randomly select a level to check if the atom will transition into it.\n",
        "  next_level = randint(1,ceiling)\n",
        "\n",
        "  #calculate the probability of making this switch.\n",
        "  #need to remember that n2/n1 might be larger than 1 (if gas is hot enough \n",
        "  #that electron is likely to be excited) but probability of being in state\n",
        "  #n2 can't actually be larger than 1, so need to divide by n2/n1 + 1 (where \n",
        "  #1 = n1/n1). \n",
        "\n",
        "  switch_chance = relativeProb(n, next_level, temp)/(1.+relativeProb(n, next_level, temp))\n",
        "\n",
        "  #randomly select a floating point value between 0 and 1\n",
        "  check = rand()\n",
        "\n",
        "  #decide if we make the switch\n",
        "  if (check < switch_chance):\n",
        "    end = next_level\n",
        "  else:\n",
        "    end = n\n",
        "\n",
        "  return end"
      ],
      "metadata": {
        "id": "5F4Wti-1KEII"
      },
      "execution_count": 14,
      "outputs": []
    },
    {
      "cell_type": "code",
      "source": [
        "# a function that constructs an MCMC chain of the energy levels an electron\n",
        "# would occupy in an environment with temperature = temp (in Kelvin).  The chain\n",
        "# will be nsteps long, and only levels between 1 and ceiling will be considered.\n",
        "\n",
        "def HydrogenWalk(steps, ceiling, temp):\n",
        "\n",
        "  #set up an array to save our ns in each step.\n",
        "  n = np.zeros(steps)\n",
        "\n",
        "  #set up the atom in the ground state\n",
        "  n[0] = 1\n",
        "\n",
        "  for i in range(steps-1):\n",
        "    n[i+1] = HydrogenStep(n[i], ceiling, temp)\n",
        "\n",
        "  return n"
      ],
      "metadata": {
        "id": "ng9nz6hxI7_l"
      },
      "execution_count": 15,
      "outputs": []
    },
    {
      "cell_type": "code",
      "source": [
        "# a function that searches an MCMC chain output (levelArray) by the HydrogenWalk \n",
        "# function for entries matching an input level nSought\n",
        "\n",
        "def findLevelFrac(nSought, levelArray):\n",
        "  \n",
        "  #search for elements in levelArray with value == nSought\n",
        "  in_state = np.nonzero(levelArray == nSought)\n",
        "\n",
        "  #calculate the number and fraction of the array in this state\n",
        "  absolute_in_state = len(in_state[0])\n",
        "  fraction_in_state = absolute_in_state / len(levelArray)\n",
        "\n",
        "  return fraction_in_state, absolute_in_state"
      ],
      "metadata": {
        "id": "qk_u1ZISsh8W"
      },
      "execution_count": 16,
      "outputs": []
    },
    {
      "cell_type": "markdown",
      "source": [
        "### Test our MCMC functions by simulating the equilibrium energy levels for cold (T = 10 K) and hot (T = 100,000 K) hydrogren atoms."
      ],
      "metadata": {
        "id": "zTtOxsVx28-i"
      }
    },
    {
      "cell_type": "code",
      "source": [
        "hydrogenCold = HydrogenWalk(100000, 100, 10.)\n",
        "coldFraction, coldAbsolute = findLevelFrac(1, hydrogenCold)\n",
        "print('mean n @ 10K: ', np.mean(hydrogenCold))\n",
        "print(' ')\n",
        "print('fraction of the chain in the ground state: ', coldFraction)\n",
        "print('absolute number of atoms in the ground state:', coldAbsolute)\n",
        "print(' ')\n",
        "print('first 101 states in the chain:')\n",
        "print(hydrogenCold[0:100])\n",
        "print(' ')\n",
        "print('histogram of all energy levels in the chain:')\n",
        "plt.hist(hydrogenCold)\n",
        "plt.show()"
      ],
      "metadata": {
        "colab": {
          "base_uri": "https://localhost:8080/",
          "height": 491
        },
        "id": "i5QIJEtnLFh7",
        "outputId": "5f7648b9-f7c3-4f02-a2a9-60b2201d07a4"
      },
      "execution_count": 23,
      "outputs": [
        {
          "output_type": "stream",
          "name": "stdout",
          "text": [
            "mean n @ 10K:  1.0\n",
            " \n",
            "fraction of the chain in the ground state:  1.0\n",
            "absolute number of atoms in the ground state: 100000\n",
            " \n",
            "first 101 states in the chain:\n",
            "[1. 1. 1. 1. 1. 1. 1. 1. 1. 1. 1. 1. 1. 1. 1. 1. 1. 1. 1. 1. 1. 1. 1. 1.\n",
            " 1. 1. 1. 1. 1. 1. 1. 1. 1. 1. 1. 1. 1. 1. 1. 1. 1. 1. 1. 1. 1. 1. 1. 1.\n",
            " 1. 1. 1. 1. 1. 1. 1. 1. 1. 1. 1. 1. 1. 1. 1. 1. 1. 1. 1. 1. 1. 1. 1. 1.\n",
            " 1. 1. 1. 1. 1. 1. 1. 1. 1. 1. 1. 1. 1. 1. 1. 1. 1. 1. 1. 1. 1. 1. 1. 1.\n",
            " 1. 1. 1. 1.]\n",
            " \n",
            "histogram of all energy levels in the chain:\n"
          ]
        },
        {
          "output_type": "display_data",
          "data": {
            "text/plain": [
              "<Figure size 432x288 with 1 Axes>"
            ],
            "image/png": "[encoded data removed]"
          },
          "metadata": {
            "needs_background": "light"
          }
        }
      ]
    },
    {
      "cell_type": "code",
      "source": [
        "hydrogenHot = HydrogenWalk(100000, 100, 100000.)\n",
        "hotFractionOne, hotAbsoluteOne = findLevelFrac(1, hydrogenHot)\n",
        "hotFractionTwo, hotAbsoluteTwo = findLevelFrac(2, hydrogenHot)\n",
        "print('mean n @ 100,000 K: ', np.mean(hydrogenHot))\n",
        "print(' ')\n",
        "print('fraction of the chain in the ground (n=1) state: ', hotFractionOne)\n",
        "print('absolute number of atoms in the ground (n=1) state:', hotAbsoluteOne)\n",
        "print(' ')\n",
        "print('fraction of the chain in the n=2 state: ', hotFractionTwo)\n",
        "print('absolute number of atoms in the n=2 state:', hotAbsoluteTwo)\n",
        "print(' ')\n",
        "print('first 101 states in the chain:')\n",
        "print(hydrogenHot[0:100])\n",
        "print(' ')\n",
        "print('histogram of all energy levels in the chain:')\n",
        "plt.hist(hydrogenHot)\n",
        "plt.show()"
      ],
      "metadata": {
        "colab": {
          "base_uri": "https://localhost:8080/",
          "height": 560
        },
        "id": "j2T6UzhbLntL",
        "outputId": "24c76c12-ebaf-4827-b52e-be981731ffa2"
      },
      "execution_count": 25,
      "outputs": [
        {
          "output_type": "stream",
          "name": "stdout",
          "text": [
            "mean n @ 100,000 K:  74.76946\n",
            " \n",
            "fraction of the chain in the ground (n=1) state:  5e-05\n",
            "absolute number of atoms in the ground (n=1) state: 5\n",
            " \n",
            "fraction of the chain in the n=2 state:  3e-05\n",
            "absolute number of atoms in the n=2 state: 3\n",
            " \n",
            "first 101 states in the chain:\n",
            "[ 1. 44. 45. 45. 87. 87. 87. 87. 87. 87. 87. 87. 87. 87. 75. 75. 75. 75.\n",
            " 91. 91. 91. 74. 58. 58. 92. 92. 92. 60. 60. 60. 75. 75. 75. 80. 80. 80.\n",
            " 80. 80. 80. 80. 80. 80. 80. 80. 80. 80. 80. 80. 80. 80. 80. 80. 92. 92.\n",
            " 92. 92. 92. 92. 92. 92. 92. 92. 98. 98. 98. 98. 98. 98. 98. 58. 58. 64.\n",
            " 64. 64. 43. 82. 51. 51. 51. 51. 51. 51. 69. 69. 69. 69. 69. 69. 69. 69.\n",
            " 77. 77. 77. 96. 96. 72. 72. 67. 67. 67.]\n",
            " \n",
            "histogram of all energy levels in the chain:\n"
          ]
        },
        {
          "output_type": "display_data",
          "data": {
            "text/plain": [
              "<Figure size 432x288 with 1 Axes>"
            ],
            "image/png": "[encoded data removed]"
          },
          "metadata": {
            "needs_background": "light"
          }
        }
      ]
    },
    {
      "cell_type": "markdown",
      "source": [
        "### Use Saha Equation to allow atom to ionize (electron will go to n=0)"
      ],
      "metadata": {
        "id": "mjPM_c_Y4rfJ"
      }
    },
    {
      "cell_type": "code",
      "source": [
        "# The Saha equation solved for electron density, returns the\n",
        "# ionization fraction nH+/nHtotal of ionized to ground-state atoms\n",
        "# given electron density ne (electrons/cm^3), temperature t in kelvins, partition functions\n",
        "# u1 and u2, and ionization energy ei of ion i from the fundamental level in eV\n",
        "# (only works for hydrogen or if you can neglect ionizations after the first)\n",
        "\n",
        "#borrowed from https://github.com/davidvgalbraith/astrophysics/blob/master/saha.py\n",
        "\n",
        "def saha(u1, u2, ei, t, ne):\n",
        "    k = 8.617342315e-5 #eV/Kelvin\n",
        "    constant = 1.8*10**10 #2 * pi * electron mass * k / h^2\n",
        "    ratio = (1/ne) * ((constant * t)**1.5) * ((2 * u2) / u1) * (math.e ** (-1 * ei/(k*t))) #equation 1.38\n",
        "    return ratio / (1 + ratio) #equation 1.40"
      ],
      "metadata": {
        "id": "RFiNJpIGq-GV"
      },
      "execution_count": 26,
      "outputs": []
    },
    {
      "cell_type": "code",
      "source": [
        "# a copy of the HydrogenStep function from above (so similiarly taking as inputs\n",
        "# the electron's initial energy level n, the ceiling level to consider, and the\n",
        "# temp of the environment in Kelvin), but using a random draw against the Saha \n",
        "# equation to check at each step if the electron ionizes.  Since the Saha \n",
        "# equation depends on the electron density, that is a new input here (ne, \n",
        "# expressed as a number density per cubic cm.) \n",
        "\n",
        "def HydrogenStepWithIonization(n, ceiling, temp, ne):\n",
        "\n",
        "  #first use the Saha Equation to check if the atom will ionize or not.\n",
        "  ionization_chance = saha(1, 2, -calcEnergy(1), temp, ne)\n",
        "  #print(ionization_chance)\n",
        "\n",
        "  #randomly select a floating point value between 0 and 1\n",
        "  check = rand()\n",
        "\n",
        "  #decide if we are ionized or not\n",
        "  if (check < ionization_chance):\n",
        "    end = 0\n",
        "  else:\n",
        "    #randomly select a level to check if the atom will transition into it.\n",
        "    next_level = randint(1,ceiling)\n",
        "\n",
        "    #if the atom was ionized at the beginning of this step, \n",
        "    #randomly choose a level that it recombines to\n",
        "    if (n == 0):\n",
        "      n= randint(1,ceiling)\n",
        "\n",
        "    #calculate the probability of making this switch.\n",
        "    #need to remember that n2/n1 might be larger than 1 (if gas is hot enough \n",
        "    #that electron is likely to be excited) but probability of being in state\n",
        "    #n2 can't actually be larger than 1, so need to divide by n2/n1 + 1 (where \n",
        "    #1 = n1/n1). \n",
        "    switch_chance = relativeProb(n, next_level, temp)/(1.+relativeProb(n, next_level, temp))\n",
        "\n",
        "    #randomly select a floating point value between 0 and 1\n",
        "    check_again = rand()\n",
        "\n",
        "    #decide if we make the switch\n",
        "    if (check_again < switch_chance):\n",
        "      end = next_level\n",
        "    else:\n",
        "      end = n\n",
        "\n",
        "  return end"
      ],
      "metadata": {
        "id": "IkCwKbuNYmtA"
      },
      "execution_count": 57,
      "outputs": []
    },
    {
      "cell_type": "code",
      "source": [
        "def HydrogenWalkWithIonization(steps, ceiling, temp, ne):\n",
        "\n",
        "  #for reference, print the electron pressure\n",
        "  k = 1.38e-23 #joules / K\n",
        "  kT = k*temp #joules\n",
        "  #print('pe: ',ne*1e6*kT) #multiplication term converts ne from e / cm^3 to m^3\n",
        "\n",
        "  #set up an array to save our ns in each step.\n",
        "  n = np.zeros(steps)\n",
        "\n",
        "  #set up the atom in the ground state\n",
        "  n[0] = 1\n",
        "\n",
        "  for i in range(steps-1):\n",
        "    n[i+1] = HydrogenStepWithIonization(n[i], ceiling, temp, ne)\n",
        "\n",
        "  return n"
      ],
      "metadata": {
        "id": "uI-MWW9RZhAN"
      },
      "execution_count": 38,
      "outputs": []
    },
    {
      "cell_type": "markdown",
      "source": [
        "### test our MCMC chain with ionization implemented"
      ],
      "metadata": {
        "id": "qUwcyQaB56mO"
      }
    },
    {
      "cell_type": "code",
      "source": [
        "nsteps = 100000\n",
        "ceiling = 10\n",
        "cold = 10.\n",
        "ne = 3e12\n",
        "\n",
        "hydrogenColdIon = HydrogenWalkWithIonization(nsteps, ceiling, cold, ne)\n",
        "coldFractionIon, coldAbsoluteIon = findLevelFrac(1, hydrogenColdIon)\n",
        "coldFractionIonized, coldAbsoluteIonized = findLevelFrac(0, hydrogenColdIon)\n",
        "print('mean n @ 10K: ', np.mean(hydrogenColdIon))\n",
        "print(' ')\n",
        "print('fraction of the chain in the ground (n=1) state: ', coldFractionIon)\n",
        "print('absolute number of atoms in the ground (n=1) state:', coldAbsoluteIon)\n",
        "print(' ')\n",
        "print('fraction of the chain in the ionized (n=0) state: ', coldFractionIonized)\n",
        "print('absolute number of atoms in the ionized (n=0) state:', coldAbsoluteIonized)\n",
        "print(' ')\n",
        "print('first 101 states in the chain:')\n",
        "print(hydrogenColdIon[0:100])\n",
        "print(' ')\n",
        "print('histogram of all energy levels in the chain:')\n",
        "plt.hist(hydrogenColdIon)\n",
        "plt.show()"
      ],
      "metadata": {
        "colab": {
          "base_uri": "https://localhost:8080/",
          "height": 543
        },
        "id": "USRNxpevZoGS",
        "outputId": "e3509961-d73b-4f73-d881-cd648a2c952f"
      },
      "execution_count": 50,
      "outputs": [
        {
          "output_type": "stream",
          "name": "stdout",
          "text": [
            "mean n @ 10K:  1.0\n",
            " \n",
            "fraction of the chain in the ground (n=1) state:  1.0\n",
            "absolute number of atoms in the ground (n=1) state: 100000\n",
            " \n",
            "fraction of the chain in the ionized (n=0) state:  0.0\n",
            "absolute number of atoms in the ionized (n=0) state: 0\n",
            " \n",
            "first 101 states in the chain:\n",
            "[1. 1. 1. 1. 1. 1. 1. 1. 1. 1. 1. 1. 1. 1. 1. 1. 1. 1. 1. 1. 1. 1. 1. 1.\n",
            " 1. 1. 1. 1. 1. 1. 1. 1. 1. 1. 1. 1. 1. 1. 1. 1. 1. 1. 1. 1. 1. 1. 1. 1.\n",
            " 1. 1. 1. 1. 1. 1. 1. 1. 1. 1. 1. 1. 1. 1. 1. 1. 1. 1. 1. 1. 1. 1. 1. 1.\n",
            " 1. 1. 1. 1. 1. 1. 1. 1. 1. 1. 1. 1. 1. 1. 1. 1. 1. 1. 1. 1. 1. 1. 1. 1.\n",
            " 1. 1. 1. 1.]\n",
            " \n",
            "histogram of all energy levels in the chain:\n"
          ]
        },
        {
          "output_type": "display_data",
          "data": {
            "text/plain": [
              "<Figure size 432x288 with 1 Axes>"
            ],
            "image/png": "[encoded data removed]"
          },
          "metadata": {
            "needs_background": "light"
          }
        }
      ]
    },
    {
      "cell_type": "code",
      "source": [
        "nsteps = 100000\n",
        "ceiling = 10\n",
        "hot = 7000.\n",
        "ne = 3e12\n",
        "\n",
        "hydrogenHotIon = HydrogenWalkWithIonization(nsteps, ceiling, hot, ne)\n",
        "HotFractionIon, HotAbsoluteIon = findLevelFrac(1, hydrogenHotIon)\n",
        "HotFractionIonized, HotAbsoluteIonized = findLevelFrac(0, hydrogenHotIon)\n",
        "print('mean n @', hot, ' K: ', np.mean(hydrogenHotIon))\n",
        "print(' ')\n",
        "print('fraction of the chain in the ground (n=1) state: ', HotFractionIon)\n",
        "print('absolute number of atoms in the ground (n=1) state:', HotAbsoluteIon)\n",
        "print(' ')\n",
        "print('fraction of the chain in the ionized (n=0) state: ', HotFractionIonized)\n",
        "print('absolute number of atoms in the ionized (n=0) state:', HotAbsoluteIonized)\n",
        "print(' ')\n",
        "print('first 101 states in the chain:')\n",
        "print(hydrogenHotIon[0:100])\n",
        "print(' ')\n",
        "print('histogram of all energy levels in the chain:')\n",
        "plt.hist(hydrogenHotIon)\n",
        "plt.show()"
      ],
      "metadata": {
        "id": "oQGlNKTLQKAi",
        "colab": {
          "base_uri": "https://localhost:8080/",
          "height": 543
        },
        "outputId": "a88498bd-c545-4df0-ff49-cbdf24cb3d5f"
      },
      "execution_count": 58,
      "outputs": [
        {
          "output_type": "stream",
          "name": "stdout",
          "text": [
            "mean n @ 7000.0  K:  2.41106\n",
            " \n",
            "fraction of the chain in the ground (n=1) state:  0.31956\n",
            "absolute number of atoms in the ground (n=1) state: 31956\n",
            " \n",
            "fraction of the chain in the ionized (n=0) state:  0.23238\n",
            "absolute number of atoms in the ionized (n=0) state: 23238\n",
            " \n",
            "first 101 states in the chain:\n",
            "[1. 1. 0. 0. 0. 1. 1. 1. 1. 0. 3. 3. 0. 0. 8. 4. 8. 0. 0. 1. 1. 1. 1. 1.\n",
            " 0. 0. 4. 3. 3. 2. 2. 0. 6. 1. 1. 1. 1. 1. 1. 1. 1. 1. 1. 1. 1. 1. 1. 1.\n",
            " 1. 1. 1. 1. 1. 1. 1. 1. 1. 1. 1. 1. 0. 9. 9. 9. 0. 2. 2. 0. 8. 0. 3. 6.\n",
            " 6. 0. 9. 0. 7. 2. 2. 2. 9. 7. 0. 6. 0. 6. 6. 6. 0. 0. 6. 0. 0. 3. 3. 3.\n",
            " 0. 0. 6. 6.]\n",
            " \n",
            "histogram of all energy levels in the chain:\n"
          ]
        },
        {
          "output_type": "display_data",
          "data": {
            "text/plain": [
              "<Figure size 432x288 with 1 Axes>"
            ],
            "image/png": "[encoded data removed]"
          },
          "metadata": {
            "needs_background": "light"
          }
        }
      ]
    },
    {
      "cell_type": "code",
      "source": [
        ""
      ],
      "metadata": {
        "id": "dH6B2ud86yN0"
      },
      "execution_count": null,
      "outputs": []
    }
  ]
}