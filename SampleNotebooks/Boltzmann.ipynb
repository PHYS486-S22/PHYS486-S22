{
  "nbformat": 4,
  "nbformat_minor": 0,
  "metadata": {
    "colab": {
      "name": "Boltzmann.ipynb",
      "provenance": [],
      "authorship_tag": "ABX9TyM7G0ou7HTgNcGl8VdM6QoL",
      "include_colab_link": true
    },
    "kernelspec": {
      "name": "python3",
      "display_name": "Python 3"
    },
    "language_info": {
      "name": "python"
    }
  },
  "cells": [
    {
      "cell_type": "markdown",
      "metadata": {
        "id": "view-in-github",
        "colab_type": "text"
      },
      "source": [
        "<a href=\"https://colab.research.google.com/github/PHYS486-S22/PHYS486-S22/blob/main/SampleNotebooks/Boltzmann.ipynb\" target=\"_parent\"><img src=\"https://colab.research.google.com/assets/colab-badge.svg\" alt=\"Open In Colab\"/></a>"
      ]
    },
    {
      "cell_type": "code",
      "execution_count": 1,
      "metadata": {
        "id": "iH2AlH2KDrb8"
      },
      "outputs": [],
      "source": [
        "%matplotlib inline\n",
        "import numpy as np\n",
        "from numpy.random import rand, randint\n",
        "import matplotlib.pyplot as plt"
      ]
    },
    {
      "cell_type": "code",
      "source": [
        "def calcEnergy(n):\n",
        "    \n",
        "  #simple hydrogen atom energy level\n",
        "  energy = -13.6 / (n*n) # in eV\n",
        "\n",
        "  return energy    "
      ],
      "metadata": {
        "id": "_zdElWISD06X"
      },
      "execution_count": 2,
      "outputs": []
    },
    {
      "cell_type": "code",
      "source": [
        "print(calcEnergy(20))"
      ],
      "metadata": {
        "colab": {
          "base_uri": "https://localhost:8080/"
        },
        "id": "EStl7rChD8KP",
        "outputId": "7d1c03ea-6824-4437-959d-90c57bbe3bfe"
      },
      "execution_count": 3,
      "outputs": [
        {
          "output_type": "stream",
          "name": "stdout",
          "text": [
            "-0.034\n"
          ]
        }
      ]
    },
    {
      "cell_type": "code",
      "source": [
        "def probEnergy(n,T):\n",
        "\n",
        "  #calculate the energy of the state\n",
        "  energy = calcEnergy(n)\n",
        "\n",
        "  #calculate kT\n",
        "  k = 8.617342315e-5 #eV/Kelvin\n",
        "  kT = k*T\n",
        "\n",
        "  #calculate probability (unnormalized!)\n",
        "  prob = np.exp(-1.*energy/kT)\n",
        "\n",
        "  return prob"
      ],
      "metadata": {
        "id": "3ao4gGo-E-0F"
      },
      "execution_count": 4,
      "outputs": []
    },
    {
      "cell_type": "code",
      "source": [
        "print(probEnergy(1,10))"
      ],
      "metadata": {
        "colab": {
          "base_uri": "https://localhost:8080/"
        },
        "id": "PWmnhYNRGk4P",
        "outputId": "d31762d3-4a00-4509-a7f7-13b3a5bab194"
      },
      "execution_count": 5,
      "outputs": [
        {
          "output_type": "stream",
          "name": "stdout",
          "text": [
            "inf\n"
          ]
        },
        {
          "output_type": "stream",
          "name": "stderr",
          "text": [
            "/usr/local/lib/python3.7/dist-packages/ipykernel_launcher.py:11: RuntimeWarning: overflow encountered in exp\n",
            "  # This is added back by InteractiveShellApp.init_path()\n"
          ]
        }
      ]
    },
    {
      "cell_type": "code",
      "source": [
        "def relativeProb(n1,n2,T):\n",
        "\n",
        "  #calculate the energies of the states n1 & n2\n",
        "  n1energy = calcEnergy(n1)\n",
        "  n2energy = calcEnergy(n2)\n",
        "\n",
        "  #calculate kT\n",
        "  k = 8.617342315e-5 #eV/Kelvin\n",
        "  kT = k*T\n",
        "\n",
        "  #calculate relative probabilities of states n1 and n2\n",
        "  prob_n2_over_n1 = (n2*n2/(n1*n1))*np.exp(-1.*(n2energy - n1energy)/kT)\n",
        "\n",
        "  return prob_n2_over_n1"
      ],
      "metadata": {
        "id": "khl7NYBuGokl"
      },
      "execution_count": 6,
      "outputs": []
    },
    {
      "cell_type": "code",
      "source": [
        "print(calcEnergy(1))\n",
        "print(calcEnergy(2))\n",
        "print(relativeProb(1,2,100000))"
      ],
      "metadata": {
        "colab": {
          "base_uri": "https://localhost:8080/"
        },
        "id": "9ciSXsQmHw-G",
        "outputId": "ac64d0bd-edd4-4a00-a183-0a97fbd799b9"
      },
      "execution_count": 7,
      "outputs": [
        {
          "output_type": "stream",
          "name": "stdout",
          "text": [
            "-13.6\n",
            "-3.4\n",
            "1.2246250998327632\n"
          ]
        }
      ]
    },
    {
      "cell_type": "code",
      "source": [
        "# calculate the sum of the probabilities we'd be normalizing over as a function of the number of levels we consider\n",
        "\n",
        "exploreTemp = 10000.\n",
        "\n",
        "for i in range(10):\n",
        "  totalProb = 0.\n",
        "  for j in range(i):\n",
        "    totalProb = totalProb + relativeProb(1,j+2,exploreTemp)\n",
        "  print(i, totalProb)"
      ],
      "metadata": {
        "colab": {
          "base_uri": "https://localhost:8080/"
        },
        "id": "v_BIfgUAH1pF",
        "outputId": "e53a537b-524c-45b0-a9be-2c8ae7612951"
      },
      "execution_count": 8,
      "outputs": [
        {
          "output_type": "stream",
          "name": "stdout",
          "text": [
            "0 0.0\n",
            "1 2.8939541267577195e-05\n",
            "2 3.621259940555731e-05\n",
            "3 4.221616896409453e-05\n",
            "4 4.879293696837019e-05\n",
            "5 5.660206942931724e-05\n",
            "6 6.60641002712594e-05\n",
            "7 7.752408440505018e-05\n",
            "8 9.12965690342945e-05\n",
            "9 0.00010768169482092463\n"
          ]
        }
      ]
    },
    {
      "cell_type": "code",
      "source": [
        "def HydrogenWalk(steps, ceiling, temp):\n",
        "\n",
        "  #set up an array to save our ns in each step.\n",
        "  n = np.zeros(steps)\n",
        "\n",
        "  #set up the atom in the ground state\n",
        "  n[0] = 1\n",
        "\n",
        "  for i in range(steps-1):\n",
        "    n[i+1] = HydrogenStep(n[i], ceiling, temp)\n",
        "\n",
        "  return n"
      ],
      "metadata": {
        "id": "ng9nz6hxI7_l"
      },
      "execution_count": 9,
      "outputs": []
    },
    {
      "cell_type": "code",
      "source": [
        "def HydrogenStep(n, ceiling, temp):\n",
        "\n",
        "  #randomly select a level to check if the atom will transition into it.\n",
        "  next_level = randint(1,ceiling)\n",
        "\n",
        "  #calculate the probability of making this switch\n",
        "  switch_chance = relativeProb(n, next_level, temp)/(1.+relativeProb(n, next_level, temp))\n",
        "\n",
        "  #randomly select a floating point value between 0 and 1\n",
        "  check = rand()\n",
        "\n",
        "  #decide if we make the switch\n",
        "  if (check < switch_chance):\n",
        "    end = next_level\n",
        "  else:\n",
        "    end = n\n",
        "\n",
        "  return end"
      ],
      "metadata": {
        "id": "5F4Wti-1KEII"
      },
      "execution_count": 10,
      "outputs": []
    },
    {
      "cell_type": "code",
      "source": [
        "hydrogenCold = HydrogenWalk(100000, 100, 10.)\n",
        "print(np.mean(hydrogenCold))\n",
        "print(hydrogenCold[0:100])\n",
        "plt.hist(hydrogenCold)\n",
        "plt.show()"
      ],
      "metadata": {
        "colab": {
          "base_uri": "https://localhost:8080/",
          "height": 372
        },
        "id": "i5QIJEtnLFh7",
        "outputId": "845cc948-3197-4540-8aea-0c41dc574e9a"
      },
      "execution_count": 11,
      "outputs": [
        {
          "output_type": "stream",
          "name": "stdout",
          "text": [
            "1.0\n",
            "[1. 1. 1. 1. 1. 1. 1. 1. 1. 1. 1. 1. 1. 1. 1. 1. 1. 1. 1. 1. 1. 1. 1. 1.\n",
            " 1. 1. 1. 1. 1. 1. 1. 1. 1. 1. 1. 1. 1. 1. 1. 1. 1. 1. 1. 1. 1. 1. 1. 1.\n",
            " 1. 1. 1. 1. 1. 1. 1. 1. 1. 1. 1. 1. 1. 1. 1. 1. 1. 1. 1. 1. 1. 1. 1. 1.\n",
            " 1. 1. 1. 1. 1. 1. 1. 1. 1. 1. 1. 1. 1. 1. 1. 1. 1. 1. 1. 1. 1. 1. 1. 1.\n",
            " 1. 1. 1. 1.]\n"
          ]
        },
        {
          "output_type": "display_data",
          "data": {
            "text/plain": [
              "<Figure size 432x288 with 1 Axes>"
            ],
            "image/png": "[encoded data removed]"
          },
          "metadata": {
            "needs_background": "light"
          }
        }
      ]
    },
    {
      "cell_type": "code",
      "source": [
        "def findLevelFrac(nSought, levelArray):\n",
        "  \n",
        "  #search for elements in levelArray with value == nSought\n",
        "  in_state = np.nonzero(levelArray == nSought)\n",
        "\n",
        "  #calculate the number and fraction of the array in this state\n",
        "  absolute_in_state = len(in_state[0])\n",
        "  fraction_in_state = absolute_in_state / len(levelArray)\n",
        "\n",
        "  return fraction_in_state, absolute_in_state"
      ],
      "metadata": {
        "id": "K2kvddMqu_2R"
      },
      "execution_count": 12,
      "outputs": []
    },
    {
      "cell_type": "code",
      "source": [
        "hydrogenCold = HydrogenWalk(100000, 100, 10.)\n",
        "coldFraction, coldAbsolute = findLevelFrac(1, hydrogenCold)\n",
        "print(np.mean(hydrogenCold))\n",
        "print(coldFraction, coldAbsolute)\n",
        "print(hydrogenCold[0:100])\n",
        "plt.hist(hydrogenCold)\n",
        "plt.show()"
      ],
      "metadata": {
        "colab": {
          "base_uri": "https://localhost:8080/",
          "height": 390
        },
        "id": "2KX_HUP8vVtD",
        "outputId": "fc46d904-cd56-420d-8a78-7087a904086e"
      },
      "execution_count": 14,
      "outputs": [
        {
          "output_type": "stream",
          "name": "stdout",
          "text": [
            "1.0\n",
            "1.0 100000\n",
            "[1. 1. 1. 1. 1. 1. 1. 1. 1. 1. 1. 1. 1. 1. 1. 1. 1. 1. 1. 1. 1. 1. 1. 1.\n",
            " 1. 1. 1. 1. 1. 1. 1. 1. 1. 1. 1. 1. 1. 1. 1. 1. 1. 1. 1. 1. 1. 1. 1. 1.\n",
            " 1. 1. 1. 1. 1. 1. 1. 1. 1. 1. 1. 1. 1. 1. 1. 1. 1. 1. 1. 1. 1. 1. 1. 1.\n",
            " 1. 1. 1. 1. 1. 1. 1. 1. 1. 1. 1. 1. 1. 1. 1. 1. 1. 1. 1. 1. 1. 1. 1. 1.\n",
            " 1. 1. 1. 1.]\n"
          ]
        },
        {
          "output_type": "display_data",
          "data": {
            "text/plain": [
              "<Figure size 432x288 with 1 Axes>"
            ],
            "image/png": "[encoded data removed]"
          },
          "metadata": {
            "needs_background": "light"
          }
        }
      ]
    },
    {
      "cell_type": "code",
      "source": [
        "hydrogenHot = HydrogenWalk(100000, 100, 12500.)\n",
        "print(np.mean(hydrogenHot))\n",
        "print(hydrogenHot[0:100])\n",
        "plt.hist(hydrogenHot)\n",
        "plt.show()"
      ],
      "metadata": {
        "colab": {
          "base_uri": "https://localhost:8080/",
          "height": 394
        },
        "id": "j2T6UzhbLntL",
        "outputId": "1e6c4488-b44b-4857-b3e1-b52abe000a50"
      },
      "execution_count": 15,
      "outputs": [
        {
          "output_type": "stream",
          "name": "stdout",
          "text": [
            "39.59631\n",
            "[ 1.  1.  1.  1.  1.  1.  1.  1.  1.  1.  1.  1.  1.  1.  1.  1.  1.  1.\n",
            "  1.  1.  1.  1.  1.  1.  1.  1.  1.  1.  1.  1.  1.  1.  1.  1.  1.  1.\n",
            "  1.  1.  1.  1.  1.  1.  1.  1.  1.  1.  1.  1.  1.  1.  1.  1.  1.  1.\n",
            "  1.  1.  1.  1.  1.  1.  1.  1.  1.  1.  1. 68. 96. 96. 96. 59. 70. 70.\n",
            " 42. 88. 88. 88. 88. 88. 88. 88. 90. 90. 92. 92. 92. 92. 92. 92. 92. 92.\n",
            " 92. 92. 84. 84. 84. 61. 61. 58. 58. 54.]\n"
          ]
        },
        {
          "output_type": "display_data",
          "data": {
            "text/plain": [
              "<Figure size 432x288 with 1 Axes>"
            ],
            "image/png": "[encoded data removed]"
          },
          "metadata": {
            "needs_background": "light"
          }
        }
      ]
    },
    {
      "cell_type": "code",
      "source": [
        "hydrogenHot = HydrogenWalk(100000, 100, 12500.)\n",
        "hotFraction, hotAbsolute = findLevelFrac(2, hydrogenHot)\n",
        "print(np.mean(hydrogenHot))\n",
        "print(hotFraction, hotAbsolute)\n",
        "print(hydrogenHot[0:100])\n",
        "plt.hist(hydrogenHot)\n",
        "plt.show()"
      ],
      "metadata": {
        "id": "oQGlNKTLQKAi",
        "colab": {
          "base_uri": "https://localhost:8080/",
          "height": 410
        },
        "outputId": "a6f5a228-06f0-4ecf-e7d4-59401b0c782c"
      },
      "execution_count": 17,
      "outputs": [
        {
          "output_type": "stream",
          "name": "stdout",
          "text": [
            "39.07469\n",
            "0.00017 17\n",
            "[ 1.  1.  1.  1.  1.  1.  1.  1.  1.  1.  1.  1. 75. 75. 75. 75. 75. 75.\n",
            " 75. 75. 75. 28. 58. 58. 58. 58. 82. 82. 82. 79. 79. 79. 79. 79. 79. 79.\n",
            " 79. 49. 44. 44. 44. 13. 93. 93. 93. 19. 73. 73. 73. 79. 79. 54. 54. 93.\n",
            " 93. 99. 99. 99. 99. 65. 95. 95. 95. 95. 95. 95. 95.  1.  1.  1.  1.  1.\n",
            "  1.  1.  1.  1. 71. 82. 82. 82. 82. 82. 82. 82. 46. 46. 46. 86. 86. 86.\n",
            " 55. 51. 51. 51. 51. 91. 97. 97. 97. 97.]\n"
          ]
        },
        {
          "output_type": "display_data",
          "data": {
            "text/plain": [
              "<Figure size 432x288 with 1 Axes>"
            ],
            "image/png": "[encoded data removed]"
          },
          "metadata": {
            "needs_background": "light"
          }
        }
      ]
    },
    {
      "cell_type": "code",
      "source": [
        ""
      ],
      "metadata": {
        "id": "meonGgAPvl9h"
      },
      "execution_count": null,
      "outputs": []
    }
  ]
}